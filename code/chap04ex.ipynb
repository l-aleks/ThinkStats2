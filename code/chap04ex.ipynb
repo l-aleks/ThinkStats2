{
  "cells": [
    {
      "cell_type": "markdown",
      "metadata": {
        "id": "b-w9T4JvPCeh"
      },
      "source": [
        "# Chapter 4\n",
        "\n",
        "Examples and Exercises from Think Stats, 2nd Edition\n",
        "\n",
        "http://thinkstats2.com\n",
        "\n",
        "Copyright 2016 Allen B. Downey\n",
        "\n",
        "MIT License: https://opensource.org/licenses/MIT\n"
      ]
    },
    {
      "cell_type": "code",
      "execution_count": null,
      "metadata": {
        "id": "PDdhAyhwPCew"
      },
      "outputs": [],
      "source": [
        "import numpy as np"
      ]
    },
    {
      "cell_type": "code",
      "execution_count": null,
      "metadata": {
        "id": "015fxNswPCe-",
        "colab": {
          "base_uri": "https://localhost:8080/"
        },
        "outputId": "bad000f1-8011-45f6-b414-6055cf77760c"
      },
      "outputs": [
        {
          "output_type": "stream",
          "name": "stdout",
          "text": [
            "Downloaded thinkstats2.py\n",
            "Downloaded thinkplot.py\n",
            "Downloaded nsfg.py\n",
            "Downloaded first.py\n",
            "Downloaded 2002FemPreg.dct\n",
            "Downloaded 2002FemPreg.dat.gz\n"
          ]
        }
      ],
      "source": [
        "from os.path import basename, exists\n",
        "\n",
        "\n",
        "def download(url):\n",
        "    filename = basename(url)\n",
        "    if not exists(filename):\n",
        "        from urllib.request import urlretrieve\n",
        "\n",
        "        local, _ = urlretrieve(url, filename)\n",
        "        print(\"Downloaded \" + local)\n",
        "\n",
        "\n",
        "download(\"https://github.com/AllenDowney/ThinkStats2/raw/master/code/thinkstats2.py\")\n",
        "download(\"https://github.com/AllenDowney/ThinkStats2/raw/master/code/thinkplot.py\")\n",
        "download(\"https://github.com/AllenDowney/ThinkStats2/raw/master/code/nsfg.py\")\n",
        "download(\"https://github.com/AllenDowney/ThinkStats2/raw/master/code/first.py\")\n",
        "\n",
        "\n",
        "download(\"https://github.com/AllenDowney/ThinkStats2/raw/master/code/2002FemPreg.dct\")\n",
        "download(\n",
        "    \"https://github.com/AllenDowney/ThinkStats2/raw/master/code/2002FemPreg.dat.gz\"\n",
        ")"
      ]
    },
    {
      "cell_type": "code",
      "execution_count": null,
      "metadata": {
        "id": "pgmQBcdcPCfK"
      },
      "outputs": [],
      "source": [
        "import thinkstats2\n",
        "import thinkplot"
      ]
    },
    {
      "cell_type": "markdown",
      "metadata": {
        "id": "h3Z5sf8xPCfS"
      },
      "source": [
        "## Examples\n",
        "\n",
        "One more time, I'll load the data from the NSFG."
      ]
    },
    {
      "cell_type": "code",
      "execution_count": null,
      "metadata": {
        "id": "iASkdfMdPCfU"
      },
      "outputs": [],
      "source": [
        "import first\n",
        "\n",
        "live, firsts, others = first.MakeFrames()"
      ]
    },
    {
      "cell_type": "markdown",
      "metadata": {
        "id": "WNMVAGhbPCfc"
      },
      "source": [
        "And compute the distribution of birth weight for first babies and others."
      ]
    },
    {
      "cell_type": "code",
      "execution_count": null,
      "metadata": {
        "id": "2TFZvS8LPCfg",
        "colab": {
          "base_uri": "https://localhost:8080/"
        },
        "outputId": "5fd08973-3068-494f-b5bb-00437ec3fedc"
      },
      "outputs": [
        {
          "output_type": "stream",
          "name": "stdout",
          "text": [
            "Firsts 4413 4363\n",
            "Others 4735 4675\n"
          ]
        }
      ],
      "source": [
        "first_wgt = firsts.totalwgt_lb\n",
        "first_wgt_dropna = first_wgt.dropna()\n",
        "print('Firsts', len(first_wgt), len(first_wgt_dropna))\n",
        " \n",
        "other_wgt = others.totalwgt_lb\n",
        "other_wgt_dropna = other_wgt.dropna()\n",
        "print('Others', len(other_wgt), len(other_wgt_dropna))\n",
        "\n",
        "first_pmf = thinkstats2.Pmf(first_wgt_dropna, label='first')\n",
        "other_pmf = thinkstats2.Pmf(other_wgt_dropna, label='other')"
      ]
    },
    {
      "cell_type": "markdown",
      "metadata": {
        "id": "iQG94qcIPCfo"
      },
      "source": [
        "We can plot the PMFs on the same scale, but it is hard to see if there is a difference."
      ]
    },
    {
      "cell_type": "code",
      "execution_count": null,
      "metadata": {
        "id": "9Hh7tghGPCf2",
        "colab": {
          "base_uri": "https://localhost:8080/",
          "height": 449
        },
        "outputId": "db2d7faf-8585-4866-e145-cd36089f63dd"
      },
      "outputs": [
        {
          "output_type": "display_data",
          "data": {
            "text/plain": [
              "<Figure size 640x480 with 1 Axes>"
            ],
            "image/png": "[encoded data removed]"
          },
          "metadata": {}
        }
      ],
      "source": [
        "width = 0.4 / 16\n",
        "\n",
        "# plot PMFs of birth weights for first babies and others\n",
        "thinkplot.PrePlot(2)\n",
        "thinkplot.Hist(first_pmf, align='right', width=width)\n",
        "thinkplot.Hist(other_pmf, align='left', width=width)\n",
        "thinkplot.Config(xlabel='Weight (pounds)', ylabel='PMF')"
      ]
    },
    {
      "cell_type": "markdown",
      "metadata": {
        "id": "190tTspzPCgB"
      },
      "source": [
        "`PercentileRank` computes the fraction of `scores` less than or equal to `your_score`."
      ]
    },
    {
      "cell_type": "code",
      "execution_count": null,
      "metadata": {
        "id": "LbsZt-iOPCgJ"
      },
      "outputs": [],
      "source": [
        "def PercentileRank(scores, your_score):\n",
        "    count = 0\n",
        "    for score in scores:\n",
        "        if score <= your_score:\n",
        "            count += 1\n",
        "\n",
        "    percentile_rank = 100.0 * count / len(scores)\n",
        "    return percentile_rank"
      ]
    },
    {
      "cell_type": "markdown",
      "metadata": {
        "id": "AffFacyGPCgL"
      },
      "source": [
        "If this is the list of scores."
      ]
    },
    {
      "cell_type": "code",
      "execution_count": null,
      "metadata": {
        "id": "TwkvzBTpPCgO"
      },
      "outputs": [],
      "source": [
        "t = [55, 66, 77, 88, 99]"
      ]
    },
    {
      "cell_type": "markdown",
      "metadata": {
        "id": "TZfC1XkmPCgR"
      },
      "source": [
        "If you got the 88, your percentile rank is 80."
      ]
    },
    {
      "cell_type": "code",
      "execution_count": null,
      "metadata": {
        "id": "kKgseeQ7PCgZ",
        "colab": {
          "base_uri": "https://localhost:8080/"
        },
        "outputId": "130488fb-f5f4-4227-b191-b04ce92dd9a7"
      },
      "outputs": [
        {
          "output_type": "execute_result",
          "data": {
            "text/plain": [
              "80.0"
            ]
          },
          "metadata": {},
          "execution_count": 9
        }
      ],
      "source": [
        "PercentileRank(t, 88)"
      ]
    },
    {
      "cell_type": "markdown",
      "metadata": {
        "id": "I93mgEo2PCgc"
      },
      "source": [
        "`Percentile` takes a percentile rank and computes the corresponding percentile. "
      ]
    },
    {
      "cell_type": "code",
      "execution_count": null,
      "metadata": {
        "id": "OzbDJ8xbPCge"
      },
      "outputs": [],
      "source": [
        "def Percentile(scores, percentile_rank):\n",
        "    scores.sort()\n",
        "    for score in scores:\n",
        "        if PercentileRank(scores, score) >= percentile_rank:\n",
        "            return score"
      ]
    },
    {
      "cell_type": "markdown",
      "metadata": {
        "id": "j1Lb-c_0PCgk"
      },
      "source": [
        "The median is the 50th percentile, which is 77."
      ]
    },
    {
      "cell_type": "code",
      "execution_count": null,
      "metadata": {
        "id": "IKerVvIXPCgn",
        "colab": {
          "base_uri": "https://localhost:8080/"
        },
        "outputId": "df8cd067-327f-4c42-a0a0-4a37151cf166"
      },
      "outputs": [
        {
          "output_type": "execute_result",
          "data": {
            "text/plain": [
              "77"
            ]
          },
          "metadata": {},
          "execution_count": 11
        }
      ],
      "source": [
        "Percentile(t, 50)"
      ]
    },
    {
      "cell_type": "markdown",
      "metadata": {
        "id": "et1_pcPfPCgx"
      },
      "source": [
        "Here's a more efficient way to compute percentiles."
      ]
    },
    {
      "cell_type": "code",
      "execution_count": null,
      "metadata": {
        "id": "Mm6UMqQoPCg9"
      },
      "outputs": [],
      "source": [
        "def Percentile2(scores, percentile_rank):\n",
        "    scores.sort()\n",
        "    index = percentile_rank * (len(scores)-1) // 100\n",
        "    return scores[int(index)]"
      ]
    },
    {
      "cell_type": "markdown",
      "metadata": {
        "id": "CMHTC9U_PChA"
      },
      "source": [
        "Let's hope we get the same answer."
      ]
    },
    {
      "cell_type": "code",
      "execution_count": null,
      "metadata": {
        "id": "AKoDNn69PChD",
        "colab": {
          "base_uri": "https://localhost:8080/"
        },
        "outputId": "510417f0-d8c1-4147-8926-0f60aeaef2f7"
      },
      "outputs": [
        {
          "output_type": "execute_result",
          "data": {
            "text/plain": [
              "77"
            ]
          },
          "metadata": {},
          "execution_count": 13
        }
      ],
      "source": [
        "Percentile2(t, 50)"
      ]
    },
    {
      "cell_type": "markdown",
      "metadata": {
        "id": "k_RTbC7VPChF"
      },
      "source": [
        "The Cumulative Distribution Function (CDF) is almost the same as `PercentileRank`.  The only difference is that the result is 0-1 instead of 0-100."
      ]
    },
    {
      "cell_type": "code",
      "execution_count": null,
      "metadata": {
        "id": "Rmzsmm1JPChJ"
      },
      "outputs": [],
      "source": [
        "def EvalCdf(sample, x):\n",
        "    count = 0.0\n",
        "    for value in sample:\n",
        "        if value <= x:\n",
        "            count += 1\n",
        "\n",
        "    prob = count / len(sample)\n",
        "    return prob"
      ]
    },
    {
      "cell_type": "markdown",
      "metadata": {
        "id": "ZBPzUNQOPChM"
      },
      "source": [
        "In this list"
      ]
    },
    {
      "cell_type": "code",
      "execution_count": null,
      "metadata": {
        "id": "PsjTWceEPChN"
      },
      "outputs": [],
      "source": [
        "t = [1, 2, 2, 3, 5]"
      ]
    },
    {
      "cell_type": "markdown",
      "metadata": {
        "id": "6WS0kQ-2PChP"
      },
      "source": [
        "We can evaluate the CDF for various values:"
      ]
    },
    {
      "cell_type": "code",
      "execution_count": null,
      "metadata": {
        "id": "zG3lVDsGPChQ",
        "colab": {
          "base_uri": "https://localhost:8080/"
        },
        "outputId": "10664fcf-3246-4d77-c246-fd6fefc6d646"
      },
      "outputs": [
        {
          "output_type": "execute_result",
          "data": {
            "text/plain": [
              "(0.0, 0.2, 0.6, 0.8, 0.8, 1.0)"
            ]
          },
          "metadata": {},
          "execution_count": 16
        }
      ],
      "source": [
        "EvalCdf(t, 0), EvalCdf(t, 1), EvalCdf(t, 2), EvalCdf(t, 3), EvalCdf(t, 4), EvalCdf(t, 5)"
      ]
    },
    {
      "cell_type": "markdown",
      "metadata": {
        "id": "yolNfm0IPChU"
      },
      "source": [
        "Here's an example using real data, the distribution of pregnancy length for live births."
      ]
    },
    {
      "cell_type": "code",
      "execution_count": null,
      "metadata": {
        "id": "itYM72GhPChY",
        "colab": {
          "base_uri": "https://localhost:8080/",
          "height": 449
        },
        "outputId": "0dd5d6e8-bd0f-405c-eb20-3f280d45f47a"
      },
      "outputs": [
        {
          "output_type": "display_data",
          "data": {
            "text/plain": [
              "<Figure size 640x480 with 1 Axes>"
            ],
            "image/png": "[encoded data removed]"
          },
          "metadata": {}
        }
      ],
      "source": [
        "cdf = thinkstats2.Cdf(live.prglngth, label='prglngth')\n",
        "thinkplot.Cdf(cdf)\n",
        "thinkplot.Config(xlabel='Pregnancy length (weeks)', ylabel='CDF', loc='upper left')"
      ]
    },
    {
      "cell_type": "markdown",
      "metadata": {
        "id": "53gtRCu0PCha"
      },
      "source": [
        "`Cdf` provides `Prob`, which evaluates the CDF; that is, it computes the fraction of values less than or equal to the given value.  For example, 94% of pregnancy lengths are less than or equal to 41."
      ]
    },
    {
      "cell_type": "code",
      "execution_count": null,
      "metadata": {
        "id": "6dHxqfjxPChd",
        "colab": {
          "base_uri": "https://localhost:8080/"
        },
        "outputId": "eb889d21-9644-4401-f4f6-3ff375512c1d"
      },
      "outputs": [
        {
          "output_type": "execute_result",
          "data": {
            "text/plain": [
              "0.9406427634455619"
            ]
          },
          "metadata": {},
          "execution_count": 18
        }
      ],
      "source": [
        "cdf.Prob(41)"
      ]
    },
    {
      "cell_type": "markdown",
      "metadata": {
        "collapsed": true,
        "id": "YIo7wuMhPChf"
      },
      "source": [
        "`Value` evaluates the inverse CDF; given a fraction, it computes the corresponding value.  For example, the median is the value that corresponds to 0.5."
      ]
    },
    {
      "cell_type": "code",
      "execution_count": null,
      "metadata": {
        "id": "UpXMBTxfPChh",
        "colab": {
          "base_uri": "https://localhost:8080/"
        },
        "outputId": "6975275a-52be-4659-ee25-85d5673ea2d3"
      },
      "outputs": [
        {
          "output_type": "execute_result",
          "data": {
            "text/plain": [
              "39"
            ]
          },
          "metadata": {},
          "execution_count": 19
        }
      ],
      "source": [
        "cdf.Value(0.5)"
      ]
    },
    {
      "cell_type": "markdown",
      "metadata": {
        "id": "Kp-3Dv2JPCho"
      },
      "source": [
        "In general, CDFs are a good way to visualize distributions.  They are not as noisy as PMFs, and if you plot several CDFs on the same axes, any differences between them are apparent."
      ]
    },
    {
      "cell_type": "code",
      "execution_count": null,
      "metadata": {
        "id": "u_G0ZYSHPChq",
        "colab": {
          "base_uri": "https://localhost:8080/",
          "height": 449
        },
        "outputId": "0d935f61-4608-4fc4-9233-0d6076719ed4"
      },
      "outputs": [
        {
          "output_type": "display_data",
          "data": {
            "text/plain": [
              "<Figure size 640x480 with 1 Axes>"
            ],
            "image/png": "[encoded data removed]"
          },
          "metadata": {}
        }
      ],
      "source": [
        "first_cdf = thinkstats2.Cdf(firsts.totalwgt_lb, label='first')\n",
        "other_cdf = thinkstats2.Cdf(others.totalwgt_lb, label='other')\n",
        "\n",
        "thinkplot.PrePlot(2)\n",
        "thinkplot.Cdfs([first_cdf, other_cdf])\n",
        "thinkplot.Config(xlabel='Weight (pounds)', ylabel='CDF')"
      ]
    },
    {
      "cell_type": "markdown",
      "metadata": {
        "id": "skM6-JYDPCht"
      },
      "source": [
        "In this example, we can see that first babies are slightly, but consistently, lighter than others.\n",
        "\n",
        "We can use the CDF of birth weight to compute percentile-based statistics."
      ]
    },
    {
      "cell_type": "code",
      "execution_count": null,
      "metadata": {
        "id": "KxhehwrAPChx"
      },
      "outputs": [],
      "source": [
        "weights = live.totalwgt_lb\n",
        "live_cdf = thinkstats2.Cdf(weights, label='live')"
      ]
    },
    {
      "cell_type": "markdown",
      "metadata": {
        "id": "8uH1KOBoPCh2"
      },
      "source": [
        "Again, the median is the 50th percentile."
      ]
    },
    {
      "cell_type": "code",
      "execution_count": null,
      "metadata": {
        "id": "USAzHuP6PCh4",
        "colab": {
          "base_uri": "https://localhost:8080/"
        },
        "outputId": "444bc458-990e-4159-9843-403bdda6ed72"
      },
      "outputs": [
        {
          "output_type": "execute_result",
          "data": {
            "text/plain": [
              "7.375"
            ]
          },
          "metadata": {},
          "execution_count": 22
        }
      ],
      "source": [
        "median = live_cdf.Percentile(50)\n",
        "median"
      ]
    },
    {
      "cell_type": "markdown",
      "metadata": {
        "id": "ihAo4eP5PCh7"
      },
      "source": [
        "The interquartile range is the interval from the 25th to 75th percentile."
      ]
    },
    {
      "cell_type": "code",
      "execution_count": null,
      "metadata": {
        "id": "MDrLBZqyPCiC",
        "colab": {
          "base_uri": "https://localhost:8080/"
        },
        "outputId": "aecf7abe-704b-447f-9f05-2002a7431a4b"
      },
      "outputs": [
        {
          "output_type": "execute_result",
          "data": {
            "text/plain": [
              "(6.5, 8.125)"
            ]
          },
          "metadata": {},
          "execution_count": 23
        }
      ],
      "source": [
        "iqr = (live_cdf.Percentile(25), live_cdf.Percentile(75))\n",
        "iqr"
      ]
    },
    {
      "cell_type": "markdown",
      "metadata": {
        "id": "kajwETt5PCiF"
      },
      "source": [
        "We can use the CDF to look up the percentile rank of a particular value.  For example, my second daughter was 10.2 pounds at birth, which is near the 99th percentile."
      ]
    },
    {
      "cell_type": "code",
      "execution_count": null,
      "metadata": {
        "id": "9rNY_eLjPCiI",
        "colab": {
          "base_uri": "https://localhost:8080/"
        },
        "outputId": "13fe2091-3ab8-494f-db6b-df45b498e7b2"
      },
      "outputs": [
        {
          "output_type": "execute_result",
          "data": {
            "text/plain": [
              "98.82717415357381"
            ]
          },
          "metadata": {},
          "execution_count": 24
        }
      ],
      "source": [
        "live_cdf.PercentileRank(10.2)"
      ]
    },
    {
      "cell_type": "markdown",
      "metadata": {
        "id": "9SQFMXRUPCiT"
      },
      "source": [
        "If we draw a random sample from the observed weights and map each weigh to its percentile rank."
      ]
    },
    {
      "cell_type": "code",
      "execution_count": null,
      "metadata": {
        "id": "VSVdOUTOPCiV"
      },
      "outputs": [],
      "source": [
        "sample = np.random.choice(weights, 100, replace=True)\n",
        "ranks = [live_cdf.PercentileRank(x) for x in sample]"
      ]
    },
    {
      "cell_type": "markdown",
      "metadata": {
        "id": "UXlj93TvPCiX"
      },
      "source": [
        "The resulting list of ranks should be approximately uniform from 0-1."
      ]
    },
    {
      "cell_type": "code",
      "execution_count": null,
      "metadata": {
        "id": "0nv2DThuPCig",
        "colab": {
          "base_uri": "https://localhost:8080/",
          "height": 449
        },
        "outputId": "72572c0e-94fa-4e31-fd57-9ba4160fa052"
      },
      "outputs": [
        {
          "output_type": "display_data",
          "data": {
            "text/plain": [
              "<Figure size 640x480 with 1 Axes>"
            ],
            "image/png": "[encoded data removed]"
          },
          "metadata": {}
        }
      ],
      "source": [
        "rank_cdf = thinkstats2.Cdf(ranks)\n",
        "thinkplot.Cdf(rank_cdf)\n",
        "thinkplot.Config(xlabel='Percentile rank', ylabel='CDF')"
      ]
    },
    {
      "cell_type": "markdown",
      "metadata": {
        "id": "DaNWmsiiPCij"
      },
      "source": [
        "That observation is the basis of `Cdf.Sample`, which generates a random sample from a Cdf.  Here's an example."
      ]
    },
    {
      "cell_type": "code",
      "execution_count": null,
      "metadata": {
        "id": "UgxVDZ9SPCin",
        "colab": {
          "base_uri": "https://localhost:8080/",
          "height": 449
        },
        "outputId": "347fa4b7-02fb-46c7-df8d-ed4aae00e1c4"
      },
      "outputs": [
        {
          "output_type": "display_data",
          "data": {
            "text/plain": [
              "<Figure size 640x480 with 1 Axes>"
            ],
            "image/png": "[encoded data removed]"
          },
          "metadata": {}
        }
      ],
      "source": [
        "resample = live_cdf.Sample(1000)\n",
        "thinkplot.Cdf(live_cdf)\n",
        "thinkplot.Cdf(thinkstats2.Cdf(resample, label='resample'))\n",
        "thinkplot.Config(xlabel='Birth weight (pounds)', ylabel='CDF')"
      ]
    },
    {
      "cell_type": "markdown",
      "metadata": {
        "id": "8ZiUxPfhPCiq"
      },
      "source": [
        "This confirms that the random sample has the same distribution as the original data."
      ]
    },
    {
      "cell_type": "markdown",
      "metadata": {
        "collapsed": true,
        "id": "rKk87dr3PCi0"
      },
      "source": [
        "## Exercises"
      ]
    },
    {
      "cell_type": "markdown",
      "metadata": {
        "collapsed": true,
        "id": "HIUHk1sQPCjE"
      },
      "source": [
        "**Exercise:** How much did you weigh at birth? If you don’t know, call your mother or someone else who knows. Using the NSFG data (all live births), compute the distribution of birth weights and use it to find your percentile rank. If you were a first baby, find your percentile rank in the distribution for first babies. Otherwise use the distribution for others. If you are in the 90th percentile or higher, call your mother back and apologize."
      ]
    },
    {
      "cell_type": "code",
      "execution_count": null,
      "metadata": {
        "id": "tfuH5v7FPCjG"
      },
      "outputs": [],
      "source": [
        "cdf_live = thinkstats2.Cdf(live.birthwgt_lb, label='live')\n",
        "cdf_firsts = thinkstats2.Cdf(firsts.birthwgt_lb, label='firsts')"
      ]
    },
    {
      "cell_type": "code",
      "execution_count": null,
      "metadata": {
        "id": "slmnuqxTPCjI",
        "colab": {
          "base_uri": "https://localhost:8080/"
        },
        "outputId": "7ab46914-d60f-4896-b730-68fd700a949c"
      },
      "outputs": [
        {
          "output_type": "execute_result",
          "data": {
            "text/plain": [
              "(70.42051959489211, 70.42051959489211)"
            ]
          },
          "metadata": {},
          "execution_count": 34
        }
      ],
      "source": [
        "weigth = 7.0\n",
        "rank_live = cdf_live.PercentileRank(weigth)\n",
        "rank_firsts = cdf_live.PercentileRank(weigth)\n",
        "rank_live, rank_firsts"
      ]
    },
    {
      "cell_type": "markdown",
      "metadata": {
        "collapsed": true,
        "id": "7SVAt0v1PCjJ"
      },
      "source": [
        "**Exercise:** The numbers generated by `numpy.random.random` are supposed to be uniform between 0 and 1; that is, every value in the range should have the same probability.\n",
        "\n",
        "Generate 1000 numbers from `numpy.random.random` and plot their PMF.  What goes wrong?\n",
        "\n",
        "Now plot the CDF. Is the distribution uniform?"
      ]
    },
    {
      "cell_type": "code",
      "execution_count": 37,
      "metadata": {
        "id": "sAZuk2_nPCjM",
        "colab": {
          "base_uri": "https://localhost:8080/",
          "height": 449
        },
        "outputId": "516cbaee-415a-4be6-dbf9-80a10c31fda3"
      },
      "outputs": [
        {
          "output_type": "display_data",
          "data": {
            "text/plain": [
              "<Figure size 640x480 with 1 Axes>"
            ],
            "image/png": "[encoded data removed]"
          },
          "metadata": {}
        }
      ],
      "source": [
        "import numpy as np\n",
        "\n",
        "randoms = np.random.random(size=1000)\n",
        "pmf = thinkstats2.Pmf(randoms)\n",
        "thinkplot.Pmf(pmf, linewidth=0.1)\n",
        "thinkplot.Config(xlabel='Value', ylabel='PMF')"
      ]
    },
    {
      "cell_type": "code",
      "execution_count": null,
      "metadata": {
        "id": "XJK0p9a9PCjP",
        "colab": {
          "base_uri": "https://localhost:8080/",
          "height": 449
        },
        "outputId": "e3350d24-adaa-4287-fe33-e0366d2c0ed0"
      },
      "outputs": [
        {
          "output_type": "display_data",
          "data": {
            "text/plain": [
              "<Figure size 640x480 with 1 Axes>"
            ],
            "image/png": "[encoded data removed]"
          },
          "metadata": {}
        }
      ],
      "source": [
        "cdf = thinkstats2.Cdf(randoms)\n",
        "thinkplot.Cdf(cdf)\n",
        "thinkplot.Config(xlabel='Value', ylabel='CDF')"
      ]
    },
    {
      "cell_type": "code",
      "execution_count": null,
      "metadata": {
        "id": "ta8S423kPCjR"
      },
      "outputs": [],
      "source": []
    },
    {
      "cell_type": "code",
      "execution_count": null,
      "metadata": {
        "id": "39eeSdmtPCjT"
      },
      "outputs": [],
      "source": []
    }
  ],
  "metadata": {
    "kernelspec": {
      "display_name": "Python 3 (ipykernel)",
      "language": "python",
      "name": "python3"
    },
    "language_info": {
      "codemirror_mode": {
        "name": "ipython",
        "version": 3
      },
      "file_extension": ".py",
      "mimetype": "text/x-python",
      "name": "python",
      "nbconvert_exporter": "python",
      "pygments_lexer": "ipython3",
      "version": "3.7.11"
    },
    "colab": {
      "provenance": [],
      "toc_visible": true
    }
  },
  "nbformat": 4,
  "nbformat_minor": 0
}